{
  "cells": [
    {
      "cell_type": "markdown",
      "id": "a517f98c-40a9-44d4-b923-343e148e79ec",
      "metadata": {
        "id": "a517f98c-40a9-44d4-b923-343e148e79ec"
      },
      "source": [
        "# The Sweet Science of Success: A Nobel Mystery!\n",
        "\n",
        "There is a theory floating around that there is a link between eating chococolate and intelligence. In fact, it has been suggested that Nobel Prize winners tend to come from countries that eat a lot of chocolate. Could indulging in chocolate boost intelligence? Or perhaps, does groundbreaking scientific discovery lead to a craving for cocoa?\n",
        "\n",
        "<img src = 'https://github.com/jdomyancich/big-data-camp/blob/main/imgs/einstein.png?raw=true' width = 300>\n",
        "* AI-generated image"
      ]
    },
    {
      "cell_type": "markdown",
      "id": "8a4335d9-ed45-4b44-8b3b-3f4c9e05c69a",
      "metadata": {
        "id": "8a4335d9-ed45-4b44-8b3b-3f4c9e05c69a"
      },
      "source": [
        "First, we need to import the libraries essential for our investigation: `pandas` for data handling and `matplotlib` for visualizations. We will also be using another visualization library, `seaborn`."
      ]
    },
    {
      "cell_type": "code",
      "execution_count": 1,
      "id": "df7fc60e",
      "metadata": {
        "id": "df7fc60e"
      },
      "outputs": [],
      "source": [
        "import pandas as pd\n",
        "import matplotlib.pyplot as plt\n",
        "import seaborn as sb"
      ]
    },
    {
      "cell_type": "markdown",
      "id": "a65749d6",
      "metadata": {
        "id": "a65749d6"
      },
      "source": [
        "## The Data\n",
        "\n",
        "Our dataset contains combined data on countries' populations, chocolate consumption, and Nobel Laureate counts."
      ]
    },
    {
      "cell_type": "code",
      "execution_count": 2,
      "id": "7d4eb0fa",
      "metadata": {
        "id": "7d4eb0fa",
        "outputId": "ac6273c1-47c2-42c0-c657-e91539d6cc5f",
        "colab": {
          "base_uri": "https://localhost:8080/",
          "height": 206
        }
      },
      "outputs": [
        {
          "output_type": "execute_result",
          "data": {
            "text/plain": [
              "       country  chocolate_kg_person  nobel_laureates  population_2018\n",
              "0  Switzerland                  8.8               28          8544034\n",
              "1       Sweden                  8.1               30          9982709\n",
              "2      Austria                  7.9               22          8751820\n",
              "3      Denmark                  7.9               14          5754356\n",
              "4       Norway                  6.6               13          5353363"
            ],
            "text/html": [
              "\n",
              "  <div id=\"df-442e9c08-f1b6-407e-98f6-92dcbe12edbb\" class=\"colab-df-container\">\n",
              "    <div>\n",
              "<style scoped>\n",
              "    .dataframe tbody tr th:only-of-type {\n",
              "        vertical-align: middle;\n",
              "    }\n",
              "\n",
              "    .dataframe tbody tr th {\n",
              "        vertical-align: top;\n",
              "    }\n",
              "\n",
              "    .dataframe thead th {\n",
              "        text-align: right;\n",
              "    }\n",
              "</style>\n",
              "<table border=\"1\" class=\"dataframe\">\n",
              "  <thead>\n",
              "    <tr style=\"text-align: right;\">\n",
              "      <th></th>\n",
              "      <th>country</th>\n",
              "      <th>chocolate_kg_person</th>\n",
              "      <th>nobel_laureates</th>\n",
              "      <th>population_2018</th>\n",
              "    </tr>\n",
              "  </thead>\n",
              "  <tbody>\n",
              "    <tr>\n",
              "      <th>0</th>\n",
              "      <td>Switzerland</td>\n",
              "      <td>8.8</td>\n",
              "      <td>28</td>\n",
              "      <td>8544034</td>\n",
              "    </tr>\n",
              "    <tr>\n",
              "      <th>1</th>\n",
              "      <td>Sweden</td>\n",
              "      <td>8.1</td>\n",
              "      <td>30</td>\n",
              "      <td>9982709</td>\n",
              "    </tr>\n",
              "    <tr>\n",
              "      <th>2</th>\n",
              "      <td>Austria</td>\n",
              "      <td>7.9</td>\n",
              "      <td>22</td>\n",
              "      <td>8751820</td>\n",
              "    </tr>\n",
              "    <tr>\n",
              "      <th>3</th>\n",
              "      <td>Denmark</td>\n",
              "      <td>7.9</td>\n",
              "      <td>14</td>\n",
              "      <td>5754356</td>\n",
              "    </tr>\n",
              "    <tr>\n",
              "      <th>4</th>\n",
              "      <td>Norway</td>\n",
              "      <td>6.6</td>\n",
              "      <td>13</td>\n",
              "      <td>5353363</td>\n",
              "    </tr>\n",
              "  </tbody>\n",
              "</table>\n",
              "</div>\n",
              "    <div class=\"colab-df-buttons\">\n",
              "\n",
              "  <div class=\"colab-df-container\">\n",
              "    <button class=\"colab-df-convert\" onclick=\"convertToInteractive('df-442e9c08-f1b6-407e-98f6-92dcbe12edbb')\"\n",
              "            title=\"Convert this dataframe to an interactive table.\"\n",
              "            style=\"display:none;\">\n",
              "\n",
              "  <svg xmlns=\"http://www.w3.org/2000/svg\" height=\"24px\" viewBox=\"0 -960 960 960\">\n",
              "    <path d=\"M120-120v-720h720v720H120Zm60-500h600v-160H180v160Zm220 220h160v-160H400v160Zm0 220h160v-160H400v160ZM180-400h160v-160H180v160Zm440 0h160v-160H620v160ZM180-180h160v-160H180v160Zm440 0h160v-160H620v160Z\"/>\n",
              "  </svg>\n",
              "    </button>\n",
              "\n",
              "  <style>\n",
              "    .colab-df-container {\n",
              "      display:flex;\n",
              "      gap: 12px;\n",
              "    }\n",
              "\n",
              "    .colab-df-convert {\n",
              "      background-color: #E8F0FE;\n",
              "      border: none;\n",
              "      border-radius: 50%;\n",
              "      cursor: pointer;\n",
              "      display: none;\n",
              "      fill: #1967D2;\n",
              "      height: 32px;\n",
              "      padding: 0 0 0 0;\n",
              "      width: 32px;\n",
              "    }\n",
              "\n",
              "    .colab-df-convert:hover {\n",
              "      background-color: #E2EBFA;\n",
              "      box-shadow: 0px 1px 2px rgba(60, 64, 67, 0.3), 0px 1px 3px 1px rgba(60, 64, 67, 0.15);\n",
              "      fill: #174EA6;\n",
              "    }\n",
              "\n",
              "    .colab-df-buttons div {\n",
              "      margin-bottom: 4px;\n",
              "    }\n",
              "\n",
              "    [theme=dark] .colab-df-convert {\n",
              "      background-color: #3B4455;\n",
              "      fill: #D2E3FC;\n",
              "    }\n",
              "\n",
              "    [theme=dark] .colab-df-convert:hover {\n",
              "      background-color: #434B5C;\n",
              "      box-shadow: 0px 1px 3px 1px rgba(0, 0, 0, 0.15);\n",
              "      filter: drop-shadow(0px 1px 2px rgba(0, 0, 0, 0.3));\n",
              "      fill: #FFFFFF;\n",
              "    }\n",
              "  </style>\n",
              "\n",
              "    <script>\n",
              "      const buttonEl =\n",
              "        document.querySelector('#df-442e9c08-f1b6-407e-98f6-92dcbe12edbb button.colab-df-convert');\n",
              "      buttonEl.style.display =\n",
              "        google.colab.kernel.accessAllowed ? 'block' : 'none';\n",
              "\n",
              "      async function convertToInteractive(key) {\n",
              "        const element = document.querySelector('#df-442e9c08-f1b6-407e-98f6-92dcbe12edbb');\n",
              "        const dataTable =\n",
              "          await google.colab.kernel.invokeFunction('convertToInteractive',\n",
              "                                                    [key], {});\n",
              "        if (!dataTable) return;\n",
              "\n",
              "        const docLinkHtml = 'Like what you see? Visit the ' +\n",
              "          '<a target=\"_blank\" href=https://colab.research.google.com/notebooks/data_table.ipynb>data table notebook</a>'\n",
              "          + ' to learn more about interactive tables.';\n",
              "        element.innerHTML = '';\n",
              "        dataTable['output_type'] = 'display_data';\n",
              "        await google.colab.output.renderOutput(dataTable, element);\n",
              "        const docLink = document.createElement('div');\n",
              "        docLink.innerHTML = docLinkHtml;\n",
              "        element.appendChild(docLink);\n",
              "      }\n",
              "    </script>\n",
              "  </div>\n",
              "\n",
              "\n",
              "    <div id=\"df-8585154f-2eee-419e-8474-4907fce97c50\">\n",
              "      <button class=\"colab-df-quickchart\" onclick=\"quickchart('df-8585154f-2eee-419e-8474-4907fce97c50')\"\n",
              "                title=\"Suggest charts\"\n",
              "                style=\"display:none;\">\n",
              "\n",
              "<svg xmlns=\"http://www.w3.org/2000/svg\" height=\"24px\"viewBox=\"0 0 24 24\"\n",
              "     width=\"24px\">\n",
              "    <g>\n",
              "        <path d=\"M19 3H5c-1.1 0-2 .9-2 2v14c0 1.1.9 2 2 2h14c1.1 0 2-.9 2-2V5c0-1.1-.9-2-2-2zM9 17H7v-7h2v7zm4 0h-2V7h2v10zm4 0h-2v-4h2v4z\"/>\n",
              "    </g>\n",
              "</svg>\n",
              "      </button>\n",
              "\n",
              "<style>\n",
              "  .colab-df-quickchart {\n",
              "      --bg-color: #E8F0FE;\n",
              "      --fill-color: #1967D2;\n",
              "      --hover-bg-color: #E2EBFA;\n",
              "      --hover-fill-color: #174EA6;\n",
              "      --disabled-fill-color: #AAA;\n",
              "      --disabled-bg-color: #DDD;\n",
              "  }\n",
              "\n",
              "  [theme=dark] .colab-df-quickchart {\n",
              "      --bg-color: #3B4455;\n",
              "      --fill-color: #D2E3FC;\n",
              "      --hover-bg-color: #434B5C;\n",
              "      --hover-fill-color: #FFFFFF;\n",
              "      --disabled-bg-color: #3B4455;\n",
              "      --disabled-fill-color: #666;\n",
              "  }\n",
              "\n",
              "  .colab-df-quickchart {\n",
              "    background-color: var(--bg-color);\n",
              "    border: none;\n",
              "    border-radius: 50%;\n",
              "    cursor: pointer;\n",
              "    display: none;\n",
              "    fill: var(--fill-color);\n",
              "    height: 32px;\n",
              "    padding: 0;\n",
              "    width: 32px;\n",
              "  }\n",
              "\n",
              "  .colab-df-quickchart:hover {\n",
              "    background-color: var(--hover-bg-color);\n",
              "    box-shadow: 0 1px 2px rgba(60, 64, 67, 0.3), 0 1px 3px 1px rgba(60, 64, 67, 0.15);\n",
              "    fill: var(--button-hover-fill-color);\n",
              "  }\n",
              "\n",
              "  .colab-df-quickchart-complete:disabled,\n",
              "  .colab-df-quickchart-complete:disabled:hover {\n",
              "    background-color: var(--disabled-bg-color);\n",
              "    fill: var(--disabled-fill-color);\n",
              "    box-shadow: none;\n",
              "  }\n",
              "\n",
              "  .colab-df-spinner {\n",
              "    border: 2px solid var(--fill-color);\n",
              "    border-color: transparent;\n",
              "    border-bottom-color: var(--fill-color);\n",
              "    animation:\n",
              "      spin 1s steps(1) infinite;\n",
              "  }\n",
              "\n",
              "  @keyframes spin {\n",
              "    0% {\n",
              "      border-color: transparent;\n",
              "      border-bottom-color: var(--fill-color);\n",
              "      border-left-color: var(--fill-color);\n",
              "    }\n",
              "    20% {\n",
              "      border-color: transparent;\n",
              "      border-left-color: var(--fill-color);\n",
              "      border-top-color: var(--fill-color);\n",
              "    }\n",
              "    30% {\n",
              "      border-color: transparent;\n",
              "      border-left-color: var(--fill-color);\n",
              "      border-top-color: var(--fill-color);\n",
              "      border-right-color: var(--fill-color);\n",
              "    }\n",
              "    40% {\n",
              "      border-color: transparent;\n",
              "      border-right-color: var(--fill-color);\n",
              "      border-top-color: var(--fill-color);\n",
              "    }\n",
              "    60% {\n",
              "      border-color: transparent;\n",
              "      border-right-color: var(--fill-color);\n",
              "    }\n",
              "    80% {\n",
              "      border-color: transparent;\n",
              "      border-right-color: var(--fill-color);\n",
              "      border-bottom-color: var(--fill-color);\n",
              "    }\n",
              "    90% {\n",
              "      border-color: transparent;\n",
              "      border-bottom-color: var(--fill-color);\n",
              "    }\n",
              "  }\n",
              "</style>\n",
              "\n",
              "      <script>\n",
              "        async function quickchart(key) {\n",
              "          const quickchartButtonEl =\n",
              "            document.querySelector('#' + key + ' button');\n",
              "          quickchartButtonEl.disabled = true;  // To prevent multiple clicks.\n",
              "          quickchartButtonEl.classList.add('colab-df-spinner');\n",
              "          try {\n",
              "            const charts = await google.colab.kernel.invokeFunction(\n",
              "                'suggestCharts', [key], {});\n",
              "          } catch (error) {\n",
              "            console.error('Error during call to suggestCharts:', error);\n",
              "          }\n",
              "          quickchartButtonEl.classList.remove('colab-df-spinner');\n",
              "          quickchartButtonEl.classList.add('colab-df-quickchart-complete');\n",
              "        }\n",
              "        (() => {\n",
              "          let quickchartButtonEl =\n",
              "            document.querySelector('#df-8585154f-2eee-419e-8474-4907fce97c50 button');\n",
              "          quickchartButtonEl.style.display =\n",
              "            google.colab.kernel.accessAllowed ? 'block' : 'none';\n",
              "        })();\n",
              "      </script>\n",
              "    </div>\n",
              "\n",
              "    </div>\n",
              "  </div>\n"
            ],
            "application/vnd.google.colaboratory.intrinsic+json": {
              "type": "dataframe",
              "variable_name": "chocolate",
              "summary": "{\n  \"name\": \"chocolate\",\n  \"rows\": 19,\n  \"fields\": [\n    {\n      \"column\": \"country\",\n      \"properties\": {\n        \"dtype\": \"string\",\n        \"num_unique_values\": 19,\n        \"samples\": [\n          \"Switzerland\",\n          \"Ireland\",\n          \"New Zealand\"\n        ],\n        \"semantic_type\": \"\",\n        \"description\": \"\"\n      }\n    },\n    {\n      \"column\": \"chocolate_kg_person\",\n      \"properties\": {\n        \"dtype\": \"number\",\n        \"std\": 2.368840118870822,\n        \"min\": 0.1,\n        \"max\": 8.8,\n        \"num_unique_values\": 16,\n        \"samples\": [\n          8.8,\n          8.1,\n          5.7\n        ],\n        \"semantic_type\": \"\",\n        \"description\": \"\"\n      }\n    },\n    {\n      \"column\": \"nobel_laureates\",\n      \"properties\": {\n        \"dtype\": \"number\",\n        \"std\": 86,\n        \"min\": 3,\n        \"max\": 383,\n        \"num_unique_values\": 16,\n        \"samples\": [\n          28,\n          30,\n          7\n        ],\n        \"semantic_type\": \"\",\n        \"description\": \"\"\n      }\n    },\n    {\n      \"column\": \"population_2018\",\n      \"properties\": {\n        \"dtype\": \"number\",\n        \"std\": 322388460,\n        \"min\": 4749598,\n        \"max\": 1415045928,\n        \"num_unique_values\": 19,\n        \"samples\": [\n          8544034,\n          4803748,\n          4749598\n        ],\n        \"semantic_type\": \"\",\n        \"description\": \"\"\n      }\n    }\n  ]\n}"
            }
          },
          "metadata": {},
          "execution_count": 2
        }
      ],
      "source": [
        "# Load the data from the .csv file and view the first few lines\n",
        "chocolate = pd.read_csv('https://raw.githubusercontent.com/jdomyancich/big-data-camp/refs/heads/main/data/nobel-chocolate.csv')\n",
        "chocolate.head()"
      ]
    },
    {
      "cell_type": "markdown",
      "id": "ce0fddd1",
      "metadata": {
        "id": "ce0fddd1"
      },
      "source": [
        "### A First Look at the Data\n",
        "\n",
        "As we have seen before, getting a good feel for the data, its structure and some summary statistics is a good first step."
      ]
    },
    {
      "cell_type": "code",
      "execution_count": 3,
      "id": "0c1f8b4d-27bf-4bca-b9b5-a9f915ca93ea",
      "metadata": {
        "id": "0c1f8b4d-27bf-4bca-b9b5-a9f915ca93ea",
        "outputId": "e4db22cd-6fda-45b5-a8e6-1dd91fc63eae",
        "colab": {
          "base_uri": "https://localhost:8080/"
        }
      },
      "outputs": [
        {
          "output_type": "stream",
          "name": "stdout",
          "text": [
            "<class 'pandas.core.frame.DataFrame'>\n",
            "RangeIndex: 19 entries, 0 to 18\n",
            "Data columns (total 4 columns):\n",
            " #   Column               Non-Null Count  Dtype  \n",
            "---  ------               --------------  -----  \n",
            " 0   country              19 non-null     object \n",
            " 1   chocolate_kg_person  19 non-null     float64\n",
            " 2   nobel_laureates      19 non-null     int64  \n",
            " 3   population_2018      19 non-null     int64  \n",
            "dtypes: float64(1), int64(2), object(1)\n",
            "memory usage: 740.0+ bytes\n"
          ]
        }
      ],
      "source": [
        "# Get technical info on the data and the types\n",
        "chocolate.info()"
      ]
    },
    {
      "cell_type": "code",
      "execution_count": 4,
      "id": "957c2b40-ee22-4b9b-8dc6-bebfa5f9e223",
      "metadata": {
        "id": "957c2b40-ee22-4b9b-8dc6-bebfa5f9e223",
        "outputId": "3535ce29-3073-4657-8e27-72b461489933",
        "colab": {
          "base_uri": "https://localhost:8080/",
          "height": 300
        }
      },
      "outputs": [
        {
          "output_type": "execute_result",
          "data": {
            "text/plain": [
              "       chocolate_kg_person  nobel_laureates  population_2018\n",
              "count            19.000000        19.000000     1.900000e+01\n",
              "mean              5.115789        42.105263     1.240195e+08\n",
              "std               2.368840        86.450303     3.223885e+08\n",
              "min               0.100000         3.000000     4.749598e+06\n",
              "25%               4.600000         9.500000     7.149195e+06\n",
              "50%               5.000000        14.000000     1.149852e+07\n",
              "75%               6.200000        28.000000     7.376336e+07\n",
              "max               8.800000       383.000000     1.415046e+09"
            ],
            "text/html": [
              "\n",
              "  <div id=\"df-a398b50f-3989-4c55-bdc1-ecf541a583aa\" class=\"colab-df-container\">\n",
              "    <div>\n",
              "<style scoped>\n",
              "    .dataframe tbody tr th:only-of-type {\n",
              "        vertical-align: middle;\n",
              "    }\n",
              "\n",
              "    .dataframe tbody tr th {\n",
              "        vertical-align: top;\n",
              "    }\n",
              "\n",
              "    .dataframe thead th {\n",
              "        text-align: right;\n",
              "    }\n",
              "</style>\n",
              "<table border=\"1\" class=\"dataframe\">\n",
              "  <thead>\n",
              "    <tr style=\"text-align: right;\">\n",
              "      <th></th>\n",
              "      <th>chocolate_kg_person</th>\n",
              "      <th>nobel_laureates</th>\n",
              "      <th>population_2018</th>\n",
              "    </tr>\n",
              "  </thead>\n",
              "  <tbody>\n",
              "    <tr>\n",
              "      <th>count</th>\n",
              "      <td>19.000000</td>\n",
              "      <td>19.000000</td>\n",
              "      <td>1.900000e+01</td>\n",
              "    </tr>\n",
              "    <tr>\n",
              "      <th>mean</th>\n",
              "      <td>5.115789</td>\n",
              "      <td>42.105263</td>\n",
              "      <td>1.240195e+08</td>\n",
              "    </tr>\n",
              "    <tr>\n",
              "      <th>std</th>\n",
              "      <td>2.368840</td>\n",
              "      <td>86.450303</td>\n",
              "      <td>3.223885e+08</td>\n",
              "    </tr>\n",
              "    <tr>\n",
              "      <th>min</th>\n",
              "      <td>0.100000</td>\n",
              "      <td>3.000000</td>\n",
              "      <td>4.749598e+06</td>\n",
              "    </tr>\n",
              "    <tr>\n",
              "      <th>25%</th>\n",
              "      <td>4.600000</td>\n",
              "      <td>9.500000</td>\n",
              "      <td>7.149195e+06</td>\n",
              "    </tr>\n",
              "    <tr>\n",
              "      <th>50%</th>\n",
              "      <td>5.000000</td>\n",
              "      <td>14.000000</td>\n",
              "      <td>1.149852e+07</td>\n",
              "    </tr>\n",
              "    <tr>\n",
              "      <th>75%</th>\n",
              "      <td>6.200000</td>\n",
              "      <td>28.000000</td>\n",
              "      <td>7.376336e+07</td>\n",
              "    </tr>\n",
              "    <tr>\n",
              "      <th>max</th>\n",
              "      <td>8.800000</td>\n",
              "      <td>383.000000</td>\n",
              "      <td>1.415046e+09</td>\n",
              "    </tr>\n",
              "  </tbody>\n",
              "</table>\n",
              "</div>\n",
              "    <div class=\"colab-df-buttons\">\n",
              "\n",
              "  <div class=\"colab-df-container\">\n",
              "    <button class=\"colab-df-convert\" onclick=\"convertToInteractive('df-a398b50f-3989-4c55-bdc1-ecf541a583aa')\"\n",
              "            title=\"Convert this dataframe to an interactive table.\"\n",
              "            style=\"display:none;\">\n",
              "\n",
              "  <svg xmlns=\"http://www.w3.org/2000/svg\" height=\"24px\" viewBox=\"0 -960 960 960\">\n",
              "    <path d=\"M120-120v-720h720v720H120Zm60-500h600v-160H180v160Zm220 220h160v-160H400v160Zm0 220h160v-160H400v160ZM180-400h160v-160H180v160Zm440 0h160v-160H620v160ZM180-180h160v-160H180v160Zm440 0h160v-160H620v160Z\"/>\n",
              "  </svg>\n",
              "    </button>\n",
              "\n",
              "  <style>\n",
              "    .colab-df-container {\n",
              "      display:flex;\n",
              "      gap: 12px;\n",
              "    }\n",
              "\n",
              "    .colab-df-convert {\n",
              "      background-color: #E8F0FE;\n",
              "      border: none;\n",
              "      border-radius: 50%;\n",
              "      cursor: pointer;\n",
              "      display: none;\n",
              "      fill: #1967D2;\n",
              "      height: 32px;\n",
              "      padding: 0 0 0 0;\n",
              "      width: 32px;\n",
              "    }\n",
              "\n",
              "    .colab-df-convert:hover {\n",
              "      background-color: #E2EBFA;\n",
              "      box-shadow: 0px 1px 2px rgba(60, 64, 67, 0.3), 0px 1px 3px 1px rgba(60, 64, 67, 0.15);\n",
              "      fill: #174EA6;\n",
              "    }\n",
              "\n",
              "    .colab-df-buttons div {\n",
              "      margin-bottom: 4px;\n",
              "    }\n",
              "\n",
              "    [theme=dark] .colab-df-convert {\n",
              "      background-color: #3B4455;\n",
              "      fill: #D2E3FC;\n",
              "    }\n",
              "\n",
              "    [theme=dark] .colab-df-convert:hover {\n",
              "      background-color: #434B5C;\n",
              "      box-shadow: 0px 1px 3px 1px rgba(0, 0, 0, 0.15);\n",
              "      filter: drop-shadow(0px 1px 2px rgba(0, 0, 0, 0.3));\n",
              "      fill: #FFFFFF;\n",
              "    }\n",
              "  </style>\n",
              "\n",
              "    <script>\n",
              "      const buttonEl =\n",
              "        document.querySelector('#df-a398b50f-3989-4c55-bdc1-ecf541a583aa button.colab-df-convert');\n",
              "      buttonEl.style.display =\n",
              "        google.colab.kernel.accessAllowed ? 'block' : 'none';\n",
              "\n",
              "      async function convertToInteractive(key) {\n",
              "        const element = document.querySelector('#df-a398b50f-3989-4c55-bdc1-ecf541a583aa');\n",
              "        const dataTable =\n",
              "          await google.colab.kernel.invokeFunction('convertToInteractive',\n",
              "                                                    [key], {});\n",
              "        if (!dataTable) return;\n",
              "\n",
              "        const docLinkHtml = 'Like what you see? Visit the ' +\n",
              "          '<a target=\"_blank\" href=https://colab.research.google.com/notebooks/data_table.ipynb>data table notebook</a>'\n",
              "          + ' to learn more about interactive tables.';\n",
              "        element.innerHTML = '';\n",
              "        dataTable['output_type'] = 'display_data';\n",
              "        await google.colab.output.renderOutput(dataTable, element);\n",
              "        const docLink = document.createElement('div');\n",
              "        docLink.innerHTML = docLinkHtml;\n",
              "        element.appendChild(docLink);\n",
              "      }\n",
              "    </script>\n",
              "  </div>\n",
              "\n",
              "\n",
              "    <div id=\"df-2fe414af-7e14-4422-82ae-234c968fc1e9\">\n",
              "      <button class=\"colab-df-quickchart\" onclick=\"quickchart('df-2fe414af-7e14-4422-82ae-234c968fc1e9')\"\n",
              "                title=\"Suggest charts\"\n",
              "                style=\"display:none;\">\n",
              "\n",
              "<svg xmlns=\"http://www.w3.org/2000/svg\" height=\"24px\"viewBox=\"0 0 24 24\"\n",
              "     width=\"24px\">\n",
              "    <g>\n",
              "        <path d=\"M19 3H5c-1.1 0-2 .9-2 2v14c0 1.1.9 2 2 2h14c1.1 0 2-.9 2-2V5c0-1.1-.9-2-2-2zM9 17H7v-7h2v7zm4 0h-2V7h2v10zm4 0h-2v-4h2v4z\"/>\n",
              "    </g>\n",
              "</svg>\n",
              "      </button>\n",
              "\n",
              "<style>\n",
              "  .colab-df-quickchart {\n",
              "      --bg-color: #E8F0FE;\n",
              "      --fill-color: #1967D2;\n",
              "      --hover-bg-color: #E2EBFA;\n",
              "      --hover-fill-color: #174EA6;\n",
              "      --disabled-fill-color: #AAA;\n",
              "      --disabled-bg-color: #DDD;\n",
              "  }\n",
              "\n",
              "  [theme=dark] .colab-df-quickchart {\n",
              "      --bg-color: #3B4455;\n",
              "      --fill-color: #D2E3FC;\n",
              "      --hover-bg-color: #434B5C;\n",
              "      --hover-fill-color: #FFFFFF;\n",
              "      --disabled-bg-color: #3B4455;\n",
              "      --disabled-fill-color: #666;\n",
              "  }\n",
              "\n",
              "  .colab-df-quickchart {\n",
              "    background-color: var(--bg-color);\n",
              "    border: none;\n",
              "    border-radius: 50%;\n",
              "    cursor: pointer;\n",
              "    display: none;\n",
              "    fill: var(--fill-color);\n",
              "    height: 32px;\n",
              "    padding: 0;\n",
              "    width: 32px;\n",
              "  }\n",
              "\n",
              "  .colab-df-quickchart:hover {\n",
              "    background-color: var(--hover-bg-color);\n",
              "    box-shadow: 0 1px 2px rgba(60, 64, 67, 0.3), 0 1px 3px 1px rgba(60, 64, 67, 0.15);\n",
              "    fill: var(--button-hover-fill-color);\n",
              "  }\n",
              "\n",
              "  .colab-df-quickchart-complete:disabled,\n",
              "  .colab-df-quickchart-complete:disabled:hover {\n",
              "    background-color: var(--disabled-bg-color);\n",
              "    fill: var(--disabled-fill-color);\n",
              "    box-shadow: none;\n",
              "  }\n",
              "\n",
              "  .colab-df-spinner {\n",
              "    border: 2px solid var(--fill-color);\n",
              "    border-color: transparent;\n",
              "    border-bottom-color: var(--fill-color);\n",
              "    animation:\n",
              "      spin 1s steps(1) infinite;\n",
              "  }\n",
              "\n",
              "  @keyframes spin {\n",
              "    0% {\n",
              "      border-color: transparent;\n",
              "      border-bottom-color: var(--fill-color);\n",
              "      border-left-color: var(--fill-color);\n",
              "    }\n",
              "    20% {\n",
              "      border-color: transparent;\n",
              "      border-left-color: var(--fill-color);\n",
              "      border-top-color: var(--fill-color);\n",
              "    }\n",
              "    30% {\n",
              "      border-color: transparent;\n",
              "      border-left-color: var(--fill-color);\n",
              "      border-top-color: var(--fill-color);\n",
              "      border-right-color: var(--fill-color);\n",
              "    }\n",
              "    40% {\n",
              "      border-color: transparent;\n",
              "      border-right-color: var(--fill-color);\n",
              "      border-top-color: var(--fill-color);\n",
              "    }\n",
              "    60% {\n",
              "      border-color: transparent;\n",
              "      border-right-color: var(--fill-color);\n",
              "    }\n",
              "    80% {\n",
              "      border-color: transparent;\n",
              "      border-right-color: var(--fill-color);\n",
              "      border-bottom-color: var(--fill-color);\n",
              "    }\n",
              "    90% {\n",
              "      border-color: transparent;\n",
              "      border-bottom-color: var(--fill-color);\n",
              "    }\n",
              "  }\n",
              "</style>\n",
              "\n",
              "      <script>\n",
              "        async function quickchart(key) {\n",
              "          const quickchartButtonEl =\n",
              "            document.querySelector('#' + key + ' button');\n",
              "          quickchartButtonEl.disabled = true;  // To prevent multiple clicks.\n",
              "          quickchartButtonEl.classList.add('colab-df-spinner');\n",
              "          try {\n",
              "            const charts = await google.colab.kernel.invokeFunction(\n",
              "                'suggestCharts', [key], {});\n",
              "          } catch (error) {\n",
              "            console.error('Error during call to suggestCharts:', error);\n",
              "          }\n",
              "          quickchartButtonEl.classList.remove('colab-df-spinner');\n",
              "          quickchartButtonEl.classList.add('colab-df-quickchart-complete');\n",
              "        }\n",
              "        (() => {\n",
              "          let quickchartButtonEl =\n",
              "            document.querySelector('#df-2fe414af-7e14-4422-82ae-234c968fc1e9 button');\n",
              "          quickchartButtonEl.style.display =\n",
              "            google.colab.kernel.accessAllowed ? 'block' : 'none';\n",
              "        })();\n",
              "      </script>\n",
              "    </div>\n",
              "\n",
              "    </div>\n",
              "  </div>\n"
            ],
            "application/vnd.google.colaboratory.intrinsic+json": {
              "type": "dataframe",
              "summary": "{\n  \"name\": \"chocolate\",\n  \"rows\": 8,\n  \"fields\": [\n    {\n      \"column\": \"chocolate_kg_person\",\n      \"properties\": {\n        \"dtype\": \"number\",\n        \"std\": 5.698990100158692,\n        \"min\": 0.1,\n        \"max\": 19.0,\n        \"num_unique_values\": 8,\n        \"samples\": [\n          5.11578947368421,\n          5.0,\n          19.0\n        ],\n        \"semantic_type\": \"\",\n        \"description\": \"\"\n      }\n    },\n    {\n      \"column\": \"nobel_laureates\",\n      \"properties\": {\n        \"dtype\": \"number\",\n        \"std\": 127.94502510870686,\n        \"min\": 3.0,\n        \"max\": 383.0,\n        \"num_unique_values\": 8,\n        \"samples\": [\n          42.10526315789474,\n          14.0,\n          19.0\n        ],\n        \"semantic_type\": \"\",\n        \"description\": \"\"\n      }\n    },\n    {\n      \"column\": \"population_2018\",\n      \"properties\": {\n        \"dtype\": \"number\",\n        \"std\": 485179740.3751165,\n        \"min\": 19.0,\n        \"max\": 1415045928.0,\n        \"num_unique_values\": 8,\n        \"samples\": [\n          124019518.89473684,\n          11498519.0,\n          19.0\n        ],\n        \"semantic_type\": \"\",\n        \"description\": \"\"\n      }\n    }\n  ]\n}"
            }
          },
          "metadata": {},
          "execution_count": 4
        }
      ],
      "source": [
        "# Get summary statistics of the numerical data\n",
        "chocolate.describe()"
      ]
    },
    {
      "cell_type": "markdown",
      "id": "b9e91844-6b53-4156-94c8-e6f30ca28acf",
      "metadata": {
        "id": "b9e91844-6b53-4156-94c8-e6f30ca28acf"
      },
      "source": [
        "### The Importance of Normalization: Making Comparisons Fair\n",
        "\n",
        "A country with a very large population will naturally have more Nobel laureates, simply because there are more people. This makes it difficult to tell if the relationship is truly about chocolate or Nobel-winning potential, or just about the sheer number of people.\n",
        "\n",
        "This is where **normalization** comes in. Normalization is the process of scaling data to allow for fair comparisons between different entities, by accounting for underlying differences (like population size).\n",
        "\n",
        "To make a more meaningful comparison, we will normalize the number of Nobel laureates by the country's population. This will give us a new metric: \"Nobel Laureates per 10 Million People\". This allows us to compare the \"Nobel efficiency\" of countries regardless of their size, giving us a clearer picture of the true relationship with chocolate:\n",
        "\n",
        "$$\\text{Nobel Laureates per 10 Million} = \\left( \\frac{\\text{Number of Nobel Laureates}}{\\text{Population}} \\right) \\times 10,000,000$$"
      ]
    },
    {
      "cell_type": "code",
      "execution_count": 7,
      "id": "2f6daf5f-5916-45fa-af0f-cf11a5bd9138",
      "metadata": {
        "id": "2f6daf5f-5916-45fa-af0f-cf11a5bd9138",
        "outputId": "947806c8-6fd0-464a-a67a-76092e958c96",
        "colab": {
          "base_uri": "https://localhost:8080/",
          "height": 645
        }
      },
      "outputs": [
        {
          "output_type": "execute_result",
          "data": {
            "text/plain": [
              "           country  chocolate_kg_person  nobel_laureates  population_2018  \\\n",
              "0      Switzerland                  8.8               28          8544034   \n",
              "1           Sweden                  8.1               30          9982709   \n",
              "2          Austria                  7.9               22          8751820   \n",
              "3          Denmark                  7.9               14          5754356   \n",
              "4           Norway                  6.6               13          5353363   \n",
              "5          Ireland                  5.8                7          4803748   \n",
              "6          Germany                  5.7              109         82293457   \n",
              "7    United States                  5.6              383        326766748   \n",
              "8           France                  5.4               70         65233271   \n",
              "9          Finland                  5.0                5          5542517   \n",
              "10         Belgium                  4.9               10         11498519   \n",
              "11     New Zealand                  4.9                3          4749598   \n",
              "12          Poland                  4.9               19         38104832   \n",
              "13       Australia                  4.8               12         24772247   \n",
              "14  Czech Republic                  4.4                5         10625250   \n",
              "15           Japan                  4.3               28        127185332   \n",
              "16    South Africa                  1.2               10         57398421   \n",
              "17          Russia                  0.9               23        143964709   \n",
              "18           China                  0.1                9       1415045928   \n",
              "\n",
              "    nobels_per_10M  \n",
              "0        32.771405  \n",
              "1        30.051963  \n",
              "2        25.137629  \n",
              "3        24.329395  \n",
              "4        24.283801  \n",
              "5        14.571955  \n",
              "6        13.245281  \n",
              "7        11.720899  \n",
              "8        10.730721  \n",
              "9         9.021172  \n",
              "10        8.696772  \n",
              "11        6.316324  \n",
              "12        4.986244  \n",
              "13        4.844131  \n",
              "14        4.705772  \n",
              "15        2.201512  \n",
              "16        1.742208  \n",
              "17        1.597614  \n",
              "18        0.063602  "
            ],
            "text/html": [
              "\n",
              "  <div id=\"df-7be596c4-897e-47ea-9200-1be3ac6da469\" class=\"colab-df-container\">\n",
              "    <div>\n",
              "<style scoped>\n",
              "    .dataframe tbody tr th:only-of-type {\n",
              "        vertical-align: middle;\n",
              "    }\n",
              "\n",
              "    .dataframe tbody tr th {\n",
              "        vertical-align: top;\n",
              "    }\n",
              "\n",
              "    .dataframe thead th {\n",
              "        text-align: right;\n",
              "    }\n",
              "</style>\n",
              "<table border=\"1\" class=\"dataframe\">\n",
              "  <thead>\n",
              "    <tr style=\"text-align: right;\">\n",
              "      <th></th>\n",
              "      <th>country</th>\n",
              "      <th>chocolate_kg_person</th>\n",
              "      <th>nobel_laureates</th>\n",
              "      <th>population_2018</th>\n",
              "      <th>nobels_per_10M</th>\n",
              "    </tr>\n",
              "  </thead>\n",
              "  <tbody>\n",
              "    <tr>\n",
              "      <th>0</th>\n",
              "      <td>Switzerland</td>\n",
              "      <td>8.8</td>\n",
              "      <td>28</td>\n",
              "      <td>8544034</td>\n",
              "      <td>32.771405</td>\n",
              "    </tr>\n",
              "    <tr>\n",
              "      <th>1</th>\n",
              "      <td>Sweden</td>\n",
              "      <td>8.1</td>\n",
              "      <td>30</td>\n",
              "      <td>9982709</td>\n",
              "      <td>30.051963</td>\n",
              "    </tr>\n",
              "    <tr>\n",
              "      <th>2</th>\n",
              "      <td>Austria</td>\n",
              "      <td>7.9</td>\n",
              "      <td>22</td>\n",
              "      <td>8751820</td>\n",
              "      <td>25.137629</td>\n",
              "    </tr>\n",
              "    <tr>\n",
              "      <th>3</th>\n",
              "      <td>Denmark</td>\n",
              "      <td>7.9</td>\n",
              "      <td>14</td>\n",
              "      <td>5754356</td>\n",
              "      <td>24.329395</td>\n",
              "    </tr>\n",
              "    <tr>\n",
              "      <th>4</th>\n",
              "      <td>Norway</td>\n",
              "      <td>6.6</td>\n",
              "      <td>13</td>\n",
              "      <td>5353363</td>\n",
              "      <td>24.283801</td>\n",
              "    </tr>\n",
              "    <tr>\n",
              "      <th>5</th>\n",
              "      <td>Ireland</td>\n",
              "      <td>5.8</td>\n",
              "      <td>7</td>\n",
              "      <td>4803748</td>\n",
              "      <td>14.571955</td>\n",
              "    </tr>\n",
              "    <tr>\n",
              "      <th>6</th>\n",
              "      <td>Germany</td>\n",
              "      <td>5.7</td>\n",
              "      <td>109</td>\n",
              "      <td>82293457</td>\n",
              "      <td>13.245281</td>\n",
              "    </tr>\n",
              "    <tr>\n",
              "      <th>7</th>\n",
              "      <td>United States</td>\n",
              "      <td>5.6</td>\n",
              "      <td>383</td>\n",
              "      <td>326766748</td>\n",
              "      <td>11.720899</td>\n",
              "    </tr>\n",
              "    <tr>\n",
              "      <th>8</th>\n",
              "      <td>France</td>\n",
              "      <td>5.4</td>\n",
              "      <td>70</td>\n",
              "      <td>65233271</td>\n",
              "      <td>10.730721</td>\n",
              "    </tr>\n",
              "    <tr>\n",
              "      <th>9</th>\n",
              "      <td>Finland</td>\n",
              "      <td>5.0</td>\n",
              "      <td>5</td>\n",
              "      <td>5542517</td>\n",
              "      <td>9.021172</td>\n",
              "    </tr>\n",
              "    <tr>\n",
              "      <th>10</th>\n",
              "      <td>Belgium</td>\n",
              "      <td>4.9</td>\n",
              "      <td>10</td>\n",
              "      <td>11498519</td>\n",
              "      <td>8.696772</td>\n",
              "    </tr>\n",
              "    <tr>\n",
              "      <th>11</th>\n",
              "      <td>New Zealand</td>\n",
              "      <td>4.9</td>\n",
              "      <td>3</td>\n",
              "      <td>4749598</td>\n",
              "      <td>6.316324</td>\n",
              "    </tr>\n",
              "    <tr>\n",
              "      <th>12</th>\n",
              "      <td>Poland</td>\n",
              "      <td>4.9</td>\n",
              "      <td>19</td>\n",
              "      <td>38104832</td>\n",
              "      <td>4.986244</td>\n",
              "    </tr>\n",
              "    <tr>\n",
              "      <th>13</th>\n",
              "      <td>Australia</td>\n",
              "      <td>4.8</td>\n",
              "      <td>12</td>\n",
              "      <td>24772247</td>\n",
              "      <td>4.844131</td>\n",
              "    </tr>\n",
              "    <tr>\n",
              "      <th>14</th>\n",
              "      <td>Czech Republic</td>\n",
              "      <td>4.4</td>\n",
              "      <td>5</td>\n",
              "      <td>10625250</td>\n",
              "      <td>4.705772</td>\n",
              "    </tr>\n",
              "    <tr>\n",
              "      <th>15</th>\n",
              "      <td>Japan</td>\n",
              "      <td>4.3</td>\n",
              "      <td>28</td>\n",
              "      <td>127185332</td>\n",
              "      <td>2.201512</td>\n",
              "    </tr>\n",
              "    <tr>\n",
              "      <th>16</th>\n",
              "      <td>South Africa</td>\n",
              "      <td>1.2</td>\n",
              "      <td>10</td>\n",
              "      <td>57398421</td>\n",
              "      <td>1.742208</td>\n",
              "    </tr>\n",
              "    <tr>\n",
              "      <th>17</th>\n",
              "      <td>Russia</td>\n",
              "      <td>0.9</td>\n",
              "      <td>23</td>\n",
              "      <td>143964709</td>\n",
              "      <td>1.597614</td>\n",
              "    </tr>\n",
              "    <tr>\n",
              "      <th>18</th>\n",
              "      <td>China</td>\n",
              "      <td>0.1</td>\n",
              "      <td>9</td>\n",
              "      <td>1415045928</td>\n",
              "      <td>0.063602</td>\n",
              "    </tr>\n",
              "  </tbody>\n",
              "</table>\n",
              "</div>\n",
              "    <div class=\"colab-df-buttons\">\n",
              "\n",
              "  <div class=\"colab-df-container\">\n",
              "    <button class=\"colab-df-convert\" onclick=\"convertToInteractive('df-7be596c4-897e-47ea-9200-1be3ac6da469')\"\n",
              "            title=\"Convert this dataframe to an interactive table.\"\n",
              "            style=\"display:none;\">\n",
              "\n",
              "  <svg xmlns=\"http://www.w3.org/2000/svg\" height=\"24px\" viewBox=\"0 -960 960 960\">\n",
              "    <path d=\"M120-120v-720h720v720H120Zm60-500h600v-160H180v160Zm220 220h160v-160H400v160Zm0 220h160v-160H400v160ZM180-400h160v-160H180v160Zm440 0h160v-160H620v160ZM180-180h160v-160H180v160Zm440 0h160v-160H620v160Z\"/>\n",
              "  </svg>\n",
              "    </button>\n",
              "\n",
              "  <style>\n",
              "    .colab-df-container {\n",
              "      display:flex;\n",
              "      gap: 12px;\n",
              "    }\n",
              "\n",
              "    .colab-df-convert {\n",
              "      background-color: #E8F0FE;\n",
              "      border: none;\n",
              "      border-radius: 50%;\n",
              "      cursor: pointer;\n",
              "      display: none;\n",
              "      fill: #1967D2;\n",
              "      height: 32px;\n",
              "      padding: 0 0 0 0;\n",
              "      width: 32px;\n",
              "    }\n",
              "\n",
              "    .colab-df-convert:hover {\n",
              "      background-color: #E2EBFA;\n",
              "      box-shadow: 0px 1px 2px rgba(60, 64, 67, 0.3), 0px 1px 3px 1px rgba(60, 64, 67, 0.15);\n",
              "      fill: #174EA6;\n",
              "    }\n",
              "\n",
              "    .colab-df-buttons div {\n",
              "      margin-bottom: 4px;\n",
              "    }\n",
              "\n",
              "    [theme=dark] .colab-df-convert {\n",
              "      background-color: #3B4455;\n",
              "      fill: #D2E3FC;\n",
              "    }\n",
              "\n",
              "    [theme=dark] .colab-df-convert:hover {\n",
              "      background-color: #434B5C;\n",
              "      box-shadow: 0px 1px 3px 1px rgba(0, 0, 0, 0.15);\n",
              "      filter: drop-shadow(0px 1px 2px rgba(0, 0, 0, 0.3));\n",
              "      fill: #FFFFFF;\n",
              "    }\n",
              "  </style>\n",
              "\n",
              "    <script>\n",
              "      const buttonEl =\n",
              "        document.querySelector('#df-7be596c4-897e-47ea-9200-1be3ac6da469 button.colab-df-convert');\n",
              "      buttonEl.style.display =\n",
              "        google.colab.kernel.accessAllowed ? 'block' : 'none';\n",
              "\n",
              "      async function convertToInteractive(key) {\n",
              "        const element = document.querySelector('#df-7be596c4-897e-47ea-9200-1be3ac6da469');\n",
              "        const dataTable =\n",
              "          await google.colab.kernel.invokeFunction('convertToInteractive',\n",
              "                                                    [key], {});\n",
              "        if (!dataTable) return;\n",
              "\n",
              "        const docLinkHtml = 'Like what you see? Visit the ' +\n",
              "          '<a target=\"_blank\" href=https://colab.research.google.com/notebooks/data_table.ipynb>data table notebook</a>'\n",
              "          + ' to learn more about interactive tables.';\n",
              "        element.innerHTML = '';\n",
              "        dataTable['output_type'] = 'display_data';\n",
              "        await google.colab.output.renderOutput(dataTable, element);\n",
              "        const docLink = document.createElement('div');\n",
              "        docLink.innerHTML = docLinkHtml;\n",
              "        element.appendChild(docLink);\n",
              "      }\n",
              "    </script>\n",
              "  </div>\n",
              "\n",
              "\n",
              "    <div id=\"df-62e30314-06fb-457a-af31-9634f758a54d\">\n",
              "      <button class=\"colab-df-quickchart\" onclick=\"quickchart('df-62e30314-06fb-457a-af31-9634f758a54d')\"\n",
              "                title=\"Suggest charts\"\n",
              "                style=\"display:none;\">\n",
              "\n",
              "<svg xmlns=\"http://www.w3.org/2000/svg\" height=\"24px\"viewBox=\"0 0 24 24\"\n",
              "     width=\"24px\">\n",
              "    <g>\n",
              "        <path d=\"M19 3H5c-1.1 0-2 .9-2 2v14c0 1.1.9 2 2 2h14c1.1 0 2-.9 2-2V5c0-1.1-.9-2-2-2zM9 17H7v-7h2v7zm4 0h-2V7h2v10zm4 0h-2v-4h2v4z\"/>\n",
              "    </g>\n",
              "</svg>\n",
              "      </button>\n",
              "\n",
              "<style>\n",
              "  .colab-df-quickchart {\n",
              "      --bg-color: #E8F0FE;\n",
              "      --fill-color: #1967D2;\n",
              "      --hover-bg-color: #E2EBFA;\n",
              "      --hover-fill-color: #174EA6;\n",
              "      --disabled-fill-color: #AAA;\n",
              "      --disabled-bg-color: #DDD;\n",
              "  }\n",
              "\n",
              "  [theme=dark] .colab-df-quickchart {\n",
              "      --bg-color: #3B4455;\n",
              "      --fill-color: #D2E3FC;\n",
              "      --hover-bg-color: #434B5C;\n",
              "      --hover-fill-color: #FFFFFF;\n",
              "      --disabled-bg-color: #3B4455;\n",
              "      --disabled-fill-color: #666;\n",
              "  }\n",
              "\n",
              "  .colab-df-quickchart {\n",
              "    background-color: var(--bg-color);\n",
              "    border: none;\n",
              "    border-radius: 50%;\n",
              "    cursor: pointer;\n",
              "    display: none;\n",
              "    fill: var(--fill-color);\n",
              "    height: 32px;\n",
              "    padding: 0;\n",
              "    width: 32px;\n",
              "  }\n",
              "\n",
              "  .colab-df-quickchart:hover {\n",
              "    background-color: var(--hover-bg-color);\n",
              "    box-shadow: 0 1px 2px rgba(60, 64, 67, 0.3), 0 1px 3px 1px rgba(60, 64, 67, 0.15);\n",
              "    fill: var(--button-hover-fill-color);\n",
              "  }\n",
              "\n",
              "  .colab-df-quickchart-complete:disabled,\n",
              "  .colab-df-quickchart-complete:disabled:hover {\n",
              "    background-color: var(--disabled-bg-color);\n",
              "    fill: var(--disabled-fill-color);\n",
              "    box-shadow: none;\n",
              "  }\n",
              "\n",
              "  .colab-df-spinner {\n",
              "    border: 2px solid var(--fill-color);\n",
              "    border-color: transparent;\n",
              "    border-bottom-color: var(--fill-color);\n",
              "    animation:\n",
              "      spin 1s steps(1) infinite;\n",
              "  }\n",
              "\n",
              "  @keyframes spin {\n",
              "    0% {\n",
              "      border-color: transparent;\n",
              "      border-bottom-color: var(--fill-color);\n",
              "      border-left-color: var(--fill-color);\n",
              "    }\n",
              "    20% {\n",
              "      border-color: transparent;\n",
              "      border-left-color: var(--fill-color);\n",
              "      border-top-color: var(--fill-color);\n",
              "    }\n",
              "    30% {\n",
              "      border-color: transparent;\n",
              "      border-left-color: var(--fill-color);\n",
              "      border-top-color: var(--fill-color);\n",
              "      border-right-color: var(--fill-color);\n",
              "    }\n",
              "    40% {\n",
              "      border-color: transparent;\n",
              "      border-right-color: var(--fill-color);\n",
              "      border-top-color: var(--fill-color);\n",
              "    }\n",
              "    60% {\n",
              "      border-color: transparent;\n",
              "      border-right-color: var(--fill-color);\n",
              "    }\n",
              "    80% {\n",
              "      border-color: transparent;\n",
              "      border-right-color: var(--fill-color);\n",
              "      border-bottom-color: var(--fill-color);\n",
              "    }\n",
              "    90% {\n",
              "      border-color: transparent;\n",
              "      border-bottom-color: var(--fill-color);\n",
              "    }\n",
              "  }\n",
              "</style>\n",
              "\n",
              "      <script>\n",
              "        async function quickchart(key) {\n",
              "          const quickchartButtonEl =\n",
              "            document.querySelector('#' + key + ' button');\n",
              "          quickchartButtonEl.disabled = true;  // To prevent multiple clicks.\n",
              "          quickchartButtonEl.classList.add('colab-df-spinner');\n",
              "          try {\n",
              "            const charts = await google.colab.kernel.invokeFunction(\n",
              "                'suggestCharts', [key], {});\n",
              "          } catch (error) {\n",
              "            console.error('Error during call to suggestCharts:', error);\n",
              "          }\n",
              "          quickchartButtonEl.classList.remove('colab-df-spinner');\n",
              "          quickchartButtonEl.classList.add('colab-df-quickchart-complete');\n",
              "        }\n",
              "        (() => {\n",
              "          let quickchartButtonEl =\n",
              "            document.querySelector('#df-62e30314-06fb-457a-af31-9634f758a54d button');\n",
              "          quickchartButtonEl.style.display =\n",
              "            google.colab.kernel.accessAllowed ? 'block' : 'none';\n",
              "        })();\n",
              "      </script>\n",
              "    </div>\n",
              "\n",
              "    </div>\n",
              "  </div>\n"
            ],
            "application/vnd.google.colaboratory.intrinsic+json": {
              "type": "dataframe",
              "variable_name": "chocolate",
              "summary": "{\n  \"name\": \"chocolate\",\n  \"rows\": 19,\n  \"fields\": [\n    {\n      \"column\": \"country\",\n      \"properties\": {\n        \"dtype\": \"string\",\n        \"num_unique_values\": 19,\n        \"samples\": [\n          \"Switzerland\",\n          \"Ireland\",\n          \"New Zealand\"\n        ],\n        \"semantic_type\": \"\",\n        \"description\": \"\"\n      }\n    },\n    {\n      \"column\": \"chocolate_kg_person\",\n      \"properties\": {\n        \"dtype\": \"number\",\n        \"std\": 2.368840118870822,\n        \"min\": 0.1,\n        \"max\": 8.8,\n        \"num_unique_values\": 16,\n        \"samples\": [\n          8.8,\n          8.1,\n          5.7\n        ],\n        \"semantic_type\": \"\",\n        \"description\": \"\"\n      }\n    },\n    {\n      \"column\": \"nobel_laureates\",\n      \"properties\": {\n        \"dtype\": \"number\",\n        \"std\": 86,\n        \"min\": 3,\n        \"max\": 383,\n        \"num_unique_values\": 16,\n        \"samples\": [\n          28,\n          30,\n          7\n        ],\n        \"semantic_type\": \"\",\n        \"description\": \"\"\n      }\n    },\n    {\n      \"column\": \"population_2018\",\n      \"properties\": {\n        \"dtype\": \"number\",\n        \"std\": 322388460,\n        \"min\": 4749598,\n        \"max\": 1415045928,\n        \"num_unique_values\": 19,\n        \"samples\": [\n          8544034,\n          4803748,\n          4749598\n        ],\n        \"semantic_type\": \"\",\n        \"description\": \"\"\n      }\n    },\n    {\n      \"column\": \"nobels_per_10M\",\n      \"properties\": {\n        \"dtype\": \"number\",\n        \"std\": 10.273527457591186,\n        \"min\": 0.06360217588640699,\n        \"max\": 32.771405169970066,\n        \"num_unique_values\": 19,\n        \"samples\": [\n          32.771405169970066,\n          14.571955065086678,\n          6.316324034160365\n        ],\n        \"semantic_type\": \"\",\n        \"description\": \"\"\n      }\n    }\n  ]\n}"
            }
          },
          "metadata": {},
          "execution_count": 7
        }
      ],
      "source": [
        "# Add a new column with the normalized data\n",
        "chocolate['nobels_per_10M'] = (chocolate['nobel_laureates']/chocolate['population_2018']) * 10000000\n",
        "# YOUR CODE HERE\n",
        "chocolate.head(20)"
      ]
    },
    {
      "cell_type": "markdown",
      "id": "267d3ad1-1d7c-4b54-920d-6d7c17e4bb8a",
      "metadata": {
        "id": "267d3ad1-1d7c-4b54-920d-6d7c17e4bb8a"
      },
      "source": [
        "## Creating a Scatter Plot\n",
        "\n",
        "Now for the moment of truth! We will use `seaborn` to create a scatter plot. Each point on the plot represents a country, with its X-coordinate being its chocolate consumption per person and its Y-coordinate being its Nobel laureates per 10 million people."
      ]
    },
    {
      "cell_type": "markdown",
      "id": "83baf22d-eec5-40b1-ad4f-6f5628b7166f",
      "metadata": {
        "id": "83baf22d-eec5-40b1-ad4f-6f5628b7166f"
      },
      "source": [
        "### Why use Seaborn for Plotting?\n",
        "\n",
        "You've already gained experience with `matplotlib.pyplot` for creating plots, which is a powerful and foundational Python plotting library. Now, we're introducing `seaborn`, which is another excellent library for data visualization. You might wonder, why use two different libraries for plotting?\n",
        "\n",
        "Here's why `seaborn` is particularly useful, especially for exploring relationships in data and creating clear scientific visualizations.\n",
        "\n",
        "1.  **Less Code**: Seaborn provides a higher-level interface than Matplotlib. This means you can often create complex and statistically-rich plots with fewer lines of code.\n",
        "\n",
        "2.  **Integrated with Pandas DataFrames**: Seaborn is designed to work seamlessly with pandas DataFrames.\n",
        "\n",
        "3.  **Complementary to Matplotlib**: Seaborn is built on top of Matplotlib. This means your knowledge of Matplotlib is still very valuable! You can use Seaborn for the high-level plotting and then use Matplotlib functions (`plt.title()`, `plt.xlabel()`, `plt.legend()`, `plt.show()`, etc.) to further customize and refine your plots. They work together hand-in-hand.\n",
        "\n",
        "4.  **Aesthetics and Professional Appearance**: Seaborn comes with built-in themes and color palettes that produce aesthetically pleasing and professional-looking plots by default."
      ]
    },
    {
      "cell_type": "code",
      "execution_count": 6,
      "id": "6f8060be",
      "metadata": {
        "id": "6f8060be",
        "outputId": "6a224236-7f8a-494e-e37c-3df18d76b369",
        "colab": {
          "base_uri": "https://localhost:8080/",
          "height": 724
        }
      },
      "outputs": [
        {
          "output_type": "display_data",
          "data": {
            "text/plain": [
              "<Figure size 1200x800 with 1 Axes>"
            ],
            "image/png": "[encoded data removed]"
          },
          "metadata": {}
        }
      ],
      "source": [
        "plt.figure(figsize=(12, 8))\n",
        "# YOUR CODE HERE\n",
        "sb.scatterplot(x = 'chocolate_kg_person', y = 'nobels_per_10M', data=chocolate)\n",
        "plt.title('Chocolate Consumption vs. Nobel Laureates by Country', fontsize=16)\n",
        "plt.xlabel('Chocolate Consumption (kg per person)', fontsize=12)\n",
        "plt.ylabel('Nobel Laureates per 10M', fontsize=12)\n",
        "plt.grid(True)\n",
        "plt.show()"
      ]
    },
    {
      "cell_type": "markdown",
      "id": "9dc4212e-ac12-40f8-91c6-f77fcc7f2c66",
      "metadata": {
        "id": "9dc4212e-ac12-40f8-91c6-f77fcc7f2c66"
      },
      "source": [
        "### Getting More Control Over Your Plots\n",
        "\n",
        "In the previous cell, we created a basic scatter plot with seaborn. Now let's learn about an important concept that will give you much more control over your plots: the **axes object**, commonly stored in a variable called `ax`."
      ]
    },
    {
      "cell_type": "code",
      "execution_count": 8,
      "id": "42fe651a-7c57-4c4e-a708-85ad9001f2d8",
      "metadata": {
        "id": "42fe651a-7c57-4c4e-a708-85ad9001f2d8",
        "outputId": "ff1c6986-a592-4c45-e2b0-0e956b843fdf",
        "colab": {
          "base_uri": "https://localhost:8080/",
          "height": 450
        }
      },
      "outputs": [
        {
          "output_type": "display_data",
          "data": {
            "text/plain": [
              "<Figure size 640x480 with 1 Axes>"
            ],
            "image/png": "[encoded data removed]"
          },
          "metadata": {}
        }
      ],
      "source": [
        "# Seaborn creates the plot AND returns the axes object\n",
        "# YOUR CODE HERE\n",
        "ax = sb.scatterplot(x = 'chocolate_kg_person', y = 'nobels_per_10M', data=chocolate)\n"
      ]
    },
    {
      "cell_type": "markdown",
      "id": "c00ea070-41f8-4b81-938f-a4b89e943091",
      "metadata": {
        "id": "c00ea070-41f8-4b81-938f-a4b89e943091"
      },
      "source": [
        "#### 1. Add Annotations and Labels"
      ]
    },
    {
      "cell_type": "code",
      "execution_count": 14,
      "id": "10da6f8d-29ca-442e-a0a0-335c4473c82d",
      "metadata": {
        "id": "10da6f8d-29ca-442e-a0a0-335c4473c82d",
        "outputId": "5be009ff-310f-486b-878f-53473b65e48c",
        "colab": {
          "base_uri": "https://localhost:8080/",
          "height": 468
        }
      },
      "outputs": [
        {
          "output_type": "execute_result",
          "data": {
            "text/plain": [
              "Text(8.8, 31.9, 'Switzerland')"
            ]
          },
          "metadata": {},
          "execution_count": 14
        },
        {
          "output_type": "display_data",
          "data": {
            "text/plain": [
              "<Figure size 640x480 with 1 Axes>"
            ],
            "image/png": "[encoded data removed]"
          },
          "metadata": {}
        }
      ],
      "source": [
        "ax = sb.scatterplot(data=chocolate, x='chocolate_kg_person', y='nobels_per_10M')\n",
        "ax.annotate('Switzerland', (8.8, 31.9))\n",
        "# Use ax to add annotations to that specific plot\n",
        "# YOUR CODE HERE"
      ]
    },
    {
      "cell_type": "markdown",
      "id": "4440ba75-333a-42a8-bc7a-f3ace5eaeac0",
      "metadata": {
        "id": "4440ba75-333a-42a8-bc7a-f3ace5eaeac0"
      },
      "source": [
        "#### 2. Customize Axes Labels"
      ]
    },
    {
      "cell_type": "code",
      "execution_count": 15,
      "id": "cefb0f7b-e12d-4f3d-9974-f62ad239a3ef",
      "metadata": {
        "id": "cefb0f7b-e12d-4f3d-9974-f62ad239a3ef",
        "outputId": "f9e21667-8a5f-491d-85df-e111b01d510d",
        "colab": {
          "base_uri": "https://localhost:8080/",
          "height": 467
        }
      },
      "outputs": [
        {
          "output_type": "execute_result",
          "data": {
            "text/plain": [
              "Text(0, 0.5, 'Nobels per 10M population')"
            ]
          },
          "metadata": {},
          "execution_count": 15
        },
        {
          "output_type": "display_data",
          "data": {
            "text/plain": [
              "<Figure size 640x480 with 1 Axes>"
            ],
            "image/png": "[encoded data removed]"
          },
          "metadata": {}
        }
      ],
      "source": [
        "ax = sb.scatterplot(data=chocolate, x='chocolate_kg_person', y='nobels_per_10M')\n",
        "ax.annotate('Switzerland', (8.8, 31.9))\n",
        "\n",
        "# Customize axis labels with more options\n",
        "ax.set_xlabel('Chocolate Consumption (kg per person per year)')\n",
        "ax.set_ylabel('Nobels per 10M population')\n",
        "# YOUR CODE HERE"
      ]
    },
    {
      "cell_type": "markdown",
      "id": "c9d8395a-e127-458c-a56e-836a7cf5a8d8",
      "metadata": {
        "id": "c9d8395a-e127-458c-a56e-836a7cf5a8d8"
      },
      "source": [
        "#### 3. Adding Grid Lines"
      ]
    },
    {
      "cell_type": "code",
      "execution_count": 17,
      "id": "4dfd20a6-7542-403e-9d0a-831e23207e86",
      "metadata": {
        "id": "4dfd20a6-7542-403e-9d0a-831e23207e86",
        "outputId": "7ee4a7aa-7373-4496-ad39-e6e7a8002f86",
        "colab": {
          "base_uri": "https://localhost:8080/",
          "height": 453
        }
      },
      "outputs": [
        {
          "output_type": "display_data",
          "data": {
            "text/plain": [
              "<Figure size 640x480 with 1 Axes>"
            ],
            "image/png": "[encoded data removed]"
          },
          "metadata": {}
        }
      ],
      "source": [
        "ax = sb.scatterplot(data=chocolate, x='chocolate_kg_person', y='nobels_per_10M')\n",
        "ax.annotate('Switzerland', (8.8, 31.9))\n",
        "ax.set_xlabel('Chocolate Consumption (kg per person per year)', fontsize=12, fontweight='bold')\n",
        "ax.set_ylabel('Nobel Prizes per 10M Population', fontsize=12, fontweight='bold')\n",
        "\n",
        "# Add a custom grid\n",
        "# YOUR CODE HERE\n",
        "ax.grid(True, alpha = 0.5, linestyle = '--')"
      ]
    },
    {
      "cell_type": "markdown",
      "id": "65dc60e8-f4e7-46ae-ad35-a914ae0256f9",
      "metadata": {
        "id": "65dc60e8-f4e7-46ae-ad35-a914ae0256f9"
      },
      "source": [
        "#### 4. Set Axes Limits"
      ]
    },
    {
      "cell_type": "code",
      "execution_count": 19,
      "id": "f3b8327b-3843-4d6e-a110-3a75d7873f75",
      "metadata": {
        "id": "f3b8327b-3843-4d6e-a110-3a75d7873f75",
        "outputId": "be0314d5-a45b-4ed6-fb5b-7b4905632471",
        "colab": {
          "base_uri": "https://localhost:8080/",
          "height": 477
        }
      },
      "outputs": [
        {
          "output_type": "execute_result",
          "data": {
            "text/plain": [
              "(0.0, 35.0)"
            ]
          },
          "metadata": {},
          "execution_count": 19
        },
        {
          "output_type": "display_data",
          "data": {
            "text/plain": [
              "<Figure size 640x480 with 1 Axes>"
            ],
            "image/png": "[encoded data removed]"
          },
          "metadata": {}
        }
      ],
      "source": [
        "ax = sb.scatterplot(data=chocolate, x='chocolate_kg_person', y='nobels_per_10M')\n",
        "ax.annotate('Switzerland', (8.8, 31.9))\n",
        "ax.set_xlabel('Chocolate Consumption (kg per person per year)', fontsize=12, fontweight='bold')\n",
        "ax.set_ylabel('Nobel Prizes per 10M Population', fontsize=12, fontweight='bold')\n",
        "ax.grid(True, alpha=0.5, linestyle= '--')\n",
        "\n",
        "# Set axis limits\n",
        "# YOUR CODE HERE\n",
        "ax.set_xlim(0,10)\n",
        "ax.set_ylim(0,35)"
      ]
    },
    {
      "cell_type": "markdown",
      "id": "3425cf37-2f09-4a30-9182-cb280d48cae0",
      "metadata": {
        "id": "3425cf37-2f09-4a30-9182-cb280d48cae0"
      },
      "source": [
        "#### Selective Labeling with Annotations\n",
        "\n",
        "When creating scatter plots with many data points, labeling every single point can make your plot cluttered and hard to read. Instead, we can selectively label only the most interesting or important points. Let's break down how this code works step by step."
      ]
    },
    {
      "cell_type": "markdown",
      "id": "7958d751-54d8-43e3-83b9-f581ae98cfc6",
      "metadata": {
        "id": "7958d751-54d8-43e3-83b9-f581ae98cfc6"
      },
      "source": [
        "1. **Choose which countries to label**:\n",
        "   This creates a list of countries we want to highlight. We chose these because they represent:\n",
        "\n",
        "- Extreme values: Switzerland (highest in both), China (low in both)\n",
        "- Major countries: United States, Germany, Japan\n",
        "- Interesting cases: Countries that help tell the story"
      ]
    },
    {
      "cell_type": "code",
      "execution_count": 22,
      "id": "42f85eb3-767d-4ab1-b2a4-c81785d52ad8",
      "metadata": {
        "id": "42f85eb3-767d-4ab1-b2a4-c81785d52ad8"
      },
      "outputs": [],
      "source": [
        "notable_countries = ['Switzerland', 'Sweden', 'Norway', 'Germany', 'United States',\n",
        "                    'China', 'Japan', 'Brazil']"
      ]
    },
    {
      "cell_type": "markdown",
      "id": "db50f353-b161-468f-9c49-14c3c2f0fd11",
      "metadata": {
        "id": "db50f353-b161-468f-9c49-14c3c2f0fd11"
      },
      "source": [
        "2. **Loop through all countries**: check if they're in our notable list, and if so, add a label at their data point position"
      ]
    },
    {
      "cell_type": "code",
      "execution_count": 23,
      "id": "254bfeb1-03fd-4c07-847b-be282e3771eb",
      "metadata": {
        "id": "254bfeb1-03fd-4c07-847b-be282e3771eb",
        "outputId": "04582afb-249d-4c5d-8603-dc0b42fe81b7",
        "colab": {
          "base_uri": "https://localhost:8080/",
          "height": 459
        }
      },
      "outputs": [
        {
          "output_type": "display_data",
          "data": {
            "text/plain": [
              "<Figure size 640x480 with 1 Axes>"
            ],
            "image/png": "[encoded data removed]"
          },
          "metadata": {}
        }
      ],
      "source": [
        "ax = sb.scatterplot(data=chocolate, x='chocolate_kg_person', y='nobels_per_10M')\n",
        "ax.set_xlabel('Chocolate Consumption (kg per person per year)', fontsize=12, fontweight='bold')\n",
        "ax.set_ylabel('Nobel Prizes per 10M Population', fontsize=12, fontweight='bold')\n",
        "ax.grid(True, alpha=0.5, linestyle= '--')\n",
        "ax.set_xlim(0, 10)\n",
        "ax.set_ylim(0, 35)\n",
        "\n",
        "for i, country in enumerate(chocolate['country']):\n",
        "    if country in notable_countries:\n",
        "        ax.annotate(country,\n",
        "                   (chocolate['chocolate_kg_person'].iloc[i], chocolate['nobels_per_10M'].iloc[i]))"
      ]
    },
    {
      "cell_type": "markdown",
      "id": "a5b207fa",
      "metadata": {
        "id": "a5b207fa"
      },
      "source": [
        "## Quantifying the Connection: Correlation Coefficient\n",
        "\n",
        "Visualizing the data is great, but to quantify the strength and direction of the linear relationship, we calculate the **Pearson Correlation Coefficient**. This value ranges from -1 to +1:\n",
        "* `+1`: Perfect positive linear correlation (as one variable increases, the other increases proportionally).\n",
        "* `-1`: Perfect negative linear correlation (as one variable increases, the other decreases proportionally).\n",
        "* `0`: No linear correlation.\n"
      ]
    },
    {
      "cell_type": "code",
      "execution_count": 24,
      "id": "58b38608",
      "metadata": {
        "id": "58b38608",
        "outputId": "32e8a461-852e-4998-bb1d-130dca946016",
        "colab": {
          "base_uri": "https://localhost:8080/"
        }
      },
      "outputs": [
        {
          "output_type": "stream",
          "name": "stdout",
          "text": [
            "Pearson Correlation Coefficient between Chocolate Consumption and Nobel Laureates is: 0.88\n"
          ]
        }
      ],
      "source": [
        "# YOUR CODE HERE\n",
        "correlation = chocolate['chocolate_kg_person'].corr(chocolate['nobels_per_10M'])\n",
        "print(f\"Pearson Correlation Coefficient between Chocolate Consumption and Nobel Laureates is: {correlation:.2f}\")"
      ]
    },
    {
      "cell_type": "markdown",
      "id": "53f3a884-4ad1-4cf3-9eca-f8c0826f95a1",
      "metadata": {
        "id": "53f3a884-4ad1-4cf3-9eca-f8c0826f95a1"
      },
      "source": [
        "### The Original Research\n",
        "\n",
        "In 2012, Dr. Franz Messerli published a study in the prestigious New England Journal of Medicine titled \"Chocolate Consumption, Cognitive Function, and Nobel Laureates.\" You've successfully uncovered a fascinating pattern, just like the researchers in 2012! The scatter plot likely shows a clear relationship, and the correlation coefficient probably indicates a strong connection.\n",
        "\n",
        "But here's the crucial question: **Does this mean that eating more chocolate *causes* a country to produce more Nobel laureates, or that winning Nobel Prizes somehow *leads* to more chocolate consumption?**"
      ]
    },
    {
      "cell_type": "markdown",
      "id": "a282ecac-f4d0-4395-b9d4-e2ff82b90410",
      "metadata": {
        "jp-MarkdownHeadingCollapsed": true,
        "id": "a282ecac-f4d0-4395-b9d4-e2ff82b90410"
      },
      "source": [
        "### Spoiler Alert (Do not view!)"
      ]
    },
    {
      "cell_type": "markdown",
      "id": "e3406edc-ca6f-4a31-980d-3353f4ef9cc5",
      "metadata": {
        "id": "e3406edc-ca6f-4a31-980d-3353f4ef9cc5"
      },
      "source": [
        "Dr. Messerli's paper wasn't your typical medical research, it was a deliberate exploration of spurious correlation that became famous worldwide.\n",
        "\n",
        "As the original study highlighted, a strong correlation between two seemingly unrelated variables often points to a **confounding variable (or \"sneaky third variable\")** that influences both.\n",
        "\n",
        "In the case of chocolate consumption and Nobel Prize winners by country, what do you think that \"sneaky third variable\" might be? Consider what characteristics high-ranking countries (like Switzerland, Sweden, or the USA) tend to share, and what might be less common in lower-ranking countries.\n",
        "\n",
        "The most likely confounding variable is **national wealth and development**.\n",
        "* **Wealthy countries** can afford higher per capita consumption of luxury goods like chocolate.\n",
        "* **Wealthy countries** also tend to:\n",
        "    * Better-funded universities and research institutions.\n",
        "    * Stronger educational systems.\n",
        "    * More investment in science, technology, and arts.\n",
        "    * Stable environments that foster long-term research and innovation.\n",
        "\n",
        "Switzerland, a wealthy nation, consistently ranks high in both chocolate consumption and Nobel laureates. Many developing nations, with lower wealth, rank low on both measures. The chocolate doesn't cause the Nobel Prizes; rather, a nation's overall prosperity facilitates both.\n",
        "\n",
        "**Key Takeaway:** This data mystery perfectly illustrates the most important lesson in statistics and data science: **Correlation does not imply causation!** Just because two things move together doesn't mean one causes the other. Always look for a plausible mechanism, consider other influencing factors (especially \"sneaky third variables\"), and question your assumptions!"
      ]
    },
    {
      "cell_type": "markdown",
      "id": "7cd37219-d837-4956-ac56-825dc81561ff",
      "metadata": {
        "id": "7cd37219-d837-4956-ac56-825dc81561ff"
      },
      "source": [
        "#### Explore Further!\n",
        "\n",
        "* To strengthen the \"national wealth\" argument, what other data could you try to find and plot?\n",
        "* Can you think of other absurd or humorous \"spurious correlations\" that might exist in the world, and what their confounding variables might be?"
      ]
    },
    {
      "cell_type": "code",
      "execution_count": null,
      "id": "ae5d5f6e-787f-495b-872b-b9cb019fa7cd",
      "metadata": {
        "id": "ae5d5f6e-787f-495b-872b-b9cb019fa7cd"
      },
      "outputs": [],
      "source": []
    }
  ],
  "metadata": {
    "kernelspec": {
      "display_name": "Python 3 (ipykernel)",
      "language": "python",
      "name": "python3"
    },
    "language_info": {
      "codemirror_mode": {
        "name": "ipython",
        "version": 3
      },
      "file_extension": ".py",
      "mimetype": "text/x-python",
      "name": "python",
      "nbconvert_exporter": "python",
      "pygments_lexer": "ipython3",
      "version": "3.9.12"
    },
    "colab": {
      "provenance": []
    }
  },
  "nbformat": 4,
  "nbformat_minor": 5
}